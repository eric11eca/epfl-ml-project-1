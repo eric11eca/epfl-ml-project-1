{
 "cells": [
  {
   "cell_type": "code",
   "execution_count": 5,
   "metadata": {
    "collapsed": true
   },
   "outputs": [],
   "source": [
    "# Useful starting lines\n",
    "%matplotlib inline\n",
    "import numpy as np\n",
    "import matplotlib.pyplot as plt\n",
    "%load_ext autoreload\n",
    "%autoreload 2"
   ]
  },
  {
   "cell_type": "markdown",
   "metadata": {},
   "source": [
    "## Load the training data into feature matrix, class labels, and event ids:"
   ]
  },
  {
   "cell_type": "code",
   "execution_count": 1,
   "metadata": {},
   "outputs": [],
   "source": [
    "import numpy as np"
   ]
  },
  {
   "cell_type": "code",
   "execution_count": 2,
   "metadata": {},
   "outputs": [],
   "source": [
    "W = [[-1.59733854, -1.49267747,  1.7741171 , -0.26252109,  1.97002228,\n",
    "        1.04528621, -0.02330498,  0.67584541,  1.7449642 , -1.76197907,\n",
    "       -1.14014912,  1.90621278,  0.55089433,  0.60044197,  0.61840111,\n",
    "        1.56107311,  1.24490654, -0.51388905, -1.55018737,  1.31313274,\n",
    "       -1.63191137,  0.9130394 ,  1.24437469, -0.63443739, -1.77574727,\n",
    "        0.8799364 , -1.75459882,  1.5179781 , -1.64458768,  1.1948108 ,\n",
    "       -0.26223344,  1.71534998,  1.08565102, -1.11178394], [-1.60765101, -1.49540714,  1.76950295, -0.26586404,  1.9734942 ,\n",
    "        1.04466713, -0.02899488,  0.67533994,  1.74132494, -1.76376099,\n",
    "       -1.1423286 ,  1.90821676,  0.55308237,  0.60145027,  0.61822806,\n",
    "        1.56393313,  1.24513967, -0.50836377, -1.54528342,  1.30844998,\n",
    "       -1.64133465,  0.9091566 ,  1.24532776, -0.63718559, -1.76811028,\n",
    "        0.87656546, -1.7594906 ,  1.51644358, -1.64592617,  1.19242423,\n",
    "       -0.269076  ,  1.72397468,  1.08532063, -1.11456421], [-1.59237183, -1.49526528,  1.77499469, -0.26146973,  1.97122201,\n",
    "        1.04570308, -0.0205899 ,  0.68117633,  1.74753791, -1.76151983,\n",
    "       -1.14148239,  1.91284287,  0.5557413 ,  0.60124583,  0.61491032,\n",
    "        1.557382  ,  1.24147511, -0.50827086, -1.54014484,  1.31410239,\n",
    "       -1.63596589,  0.91218136,  1.24508867, -0.63235224, -1.76764984,\n",
    "        0.8750581 , -1.75281373,  1.51914089, -1.6474642 ,  1.19594155,\n",
    "       -0.26668781,  1.71999274,  1.08731901, -1.1145763 ]]"
   ]
  },
  {
   "cell_type": "code",
   "execution_count": 4,
   "metadata": {},
   "outputs": [
    {
     "data": {
      "text/plain": [
       "array([-1.59912046, -1.49444996,  1.77287158, -0.26328495,  1.9715795 ,\n",
       "        1.04521881, -0.02429659,  0.67745389,  1.74460902, -1.76241996,\n",
       "       -1.14132004,  1.9090908 ,  0.55323933,  0.60104602,  0.61717983,\n",
       "        1.56079608,  1.24384044, -0.51017456, -1.54520521,  1.31189504,\n",
       "       -1.63640397,  0.91145912,  1.24493037, -0.63465841, -1.77050246,\n",
       "        0.87718665, -1.75563438,  1.51785419, -1.64599268,  1.19439219,\n",
       "       -0.26599908,  1.71977247,  1.08609689, -1.11364148])"
      ]
     },
     "execution_count": 4,
     "metadata": {},
     "output_type": "execute_result"
    }
   ],
   "source": [
    "np.mean(W, axis=0)"
   ]
  },
  {
   "cell_type": "code",
   "execution_count": 6,
   "metadata": {},
   "outputs": [
    {
     "data": {
      "text/html": [
       "<div>\n",
       "<style scoped>\n",
       "    .dataframe tbody tr th:only-of-type {\n",
       "        vertical-align: middle;\n",
       "    }\n",
       "\n",
       "    .dataframe tbody tr th {\n",
       "        vertical-align: top;\n",
       "    }\n",
       "\n",
       "    .dataframe thead th {\n",
       "        text-align: right;\n",
       "    }\n",
       "</style>\n",
       "<table border=\"1\" class=\"dataframe\">\n",
       "  <thead>\n",
       "    <tr style=\"text-align: right;\">\n",
       "      <th></th>\n",
       "      <th>Id</th>\n",
       "      <th>Prediction</th>\n",
       "      <th>DER_mass_MMC</th>\n",
       "      <th>DER_mass_transverse_met_lep</th>\n",
       "      <th>DER_mass_vis</th>\n",
       "      <th>DER_pt_h</th>\n",
       "      <th>DER_deltaeta_jet_jet</th>\n",
       "      <th>DER_mass_jet_jet</th>\n",
       "      <th>DER_prodeta_jet_jet</th>\n",
       "      <th>DER_deltar_tau_lep</th>\n",
       "      <th>...</th>\n",
       "      <th>PRI_met_phi</th>\n",
       "      <th>PRI_met_sumet</th>\n",
       "      <th>PRI_jet_num</th>\n",
       "      <th>PRI_jet_leading_pt</th>\n",
       "      <th>PRI_jet_leading_eta</th>\n",
       "      <th>PRI_jet_leading_phi</th>\n",
       "      <th>PRI_jet_subleading_pt</th>\n",
       "      <th>PRI_jet_subleading_eta</th>\n",
       "      <th>PRI_jet_subleading_phi</th>\n",
       "      <th>PRI_jet_all_pt</th>\n",
       "    </tr>\n",
       "  </thead>\n",
       "  <tbody>\n",
       "    <tr>\n",
       "      <th>0</th>\n",
       "      <td>100000</td>\n",
       "      <td>s</td>\n",
       "      <td>138.470</td>\n",
       "      <td>51.655</td>\n",
       "      <td>97.827</td>\n",
       "      <td>27.980</td>\n",
       "      <td>0.91</td>\n",
       "      <td>124.711</td>\n",
       "      <td>2.666</td>\n",
       "      <td>3.064</td>\n",
       "      <td>...</td>\n",
       "      <td>-0.277</td>\n",
       "      <td>258.733</td>\n",
       "      <td>2</td>\n",
       "      <td>67.435</td>\n",
       "      <td>2.150</td>\n",
       "      <td>0.444</td>\n",
       "      <td>46.062</td>\n",
       "      <td>1.24</td>\n",
       "      <td>-2.475</td>\n",
       "      <td>113.497</td>\n",
       "    </tr>\n",
       "    <tr>\n",
       "      <th>1</th>\n",
       "      <td>100001</td>\n",
       "      <td>b</td>\n",
       "      <td>160.937</td>\n",
       "      <td>68.768</td>\n",
       "      <td>103.235</td>\n",
       "      <td>48.146</td>\n",
       "      <td>-999.00</td>\n",
       "      <td>-999.000</td>\n",
       "      <td>-999.000</td>\n",
       "      <td>3.473</td>\n",
       "      <td>...</td>\n",
       "      <td>-1.916</td>\n",
       "      <td>164.546</td>\n",
       "      <td>1</td>\n",
       "      <td>46.226</td>\n",
       "      <td>0.725</td>\n",
       "      <td>1.158</td>\n",
       "      <td>-999.000</td>\n",
       "      <td>-999.00</td>\n",
       "      <td>-999.000</td>\n",
       "      <td>46.226</td>\n",
       "    </tr>\n",
       "    <tr>\n",
       "      <th>2</th>\n",
       "      <td>100002</td>\n",
       "      <td>b</td>\n",
       "      <td>-999.000</td>\n",
       "      <td>162.172</td>\n",
       "      <td>125.953</td>\n",
       "      <td>35.635</td>\n",
       "      <td>-999.00</td>\n",
       "      <td>-999.000</td>\n",
       "      <td>-999.000</td>\n",
       "      <td>3.148</td>\n",
       "      <td>...</td>\n",
       "      <td>-2.186</td>\n",
       "      <td>260.414</td>\n",
       "      <td>1</td>\n",
       "      <td>44.251</td>\n",
       "      <td>2.053</td>\n",
       "      <td>-2.028</td>\n",
       "      <td>-999.000</td>\n",
       "      <td>-999.00</td>\n",
       "      <td>-999.000</td>\n",
       "      <td>44.251</td>\n",
       "    </tr>\n",
       "    <tr>\n",
       "      <th>3</th>\n",
       "      <td>100003</td>\n",
       "      <td>b</td>\n",
       "      <td>143.905</td>\n",
       "      <td>81.417</td>\n",
       "      <td>80.943</td>\n",
       "      <td>0.414</td>\n",
       "      <td>-999.00</td>\n",
       "      <td>-999.000</td>\n",
       "      <td>-999.000</td>\n",
       "      <td>3.310</td>\n",
       "      <td>...</td>\n",
       "      <td>0.060</td>\n",
       "      <td>86.062</td>\n",
       "      <td>0</td>\n",
       "      <td>-999.000</td>\n",
       "      <td>-999.000</td>\n",
       "      <td>-999.000</td>\n",
       "      <td>-999.000</td>\n",
       "      <td>-999.00</td>\n",
       "      <td>-999.000</td>\n",
       "      <td>0.000</td>\n",
       "    </tr>\n",
       "    <tr>\n",
       "      <th>4</th>\n",
       "      <td>100004</td>\n",
       "      <td>b</td>\n",
       "      <td>175.864</td>\n",
       "      <td>16.915</td>\n",
       "      <td>134.805</td>\n",
       "      <td>16.405</td>\n",
       "      <td>-999.00</td>\n",
       "      <td>-999.000</td>\n",
       "      <td>-999.000</td>\n",
       "      <td>3.891</td>\n",
       "      <td>...</td>\n",
       "      <td>-0.871</td>\n",
       "      <td>53.131</td>\n",
       "      <td>0</td>\n",
       "      <td>-999.000</td>\n",
       "      <td>-999.000</td>\n",
       "      <td>-999.000</td>\n",
       "      <td>-999.000</td>\n",
       "      <td>-999.00</td>\n",
       "      <td>-999.000</td>\n",
       "      <td>0.000</td>\n",
       "    </tr>\n",
       "  </tbody>\n",
       "</table>\n",
       "<p>5 rows × 32 columns</p>\n",
       "</div>"
      ],
      "text/plain": [
       "       Id Prediction  DER_mass_MMC  DER_mass_transverse_met_lep  DER_mass_vis  \\\n",
       "0  100000          s       138.470                       51.655        97.827   \n",
       "1  100001          b       160.937                       68.768       103.235   \n",
       "2  100002          b      -999.000                      162.172       125.953   \n",
       "3  100003          b       143.905                       81.417        80.943   \n",
       "4  100004          b       175.864                       16.915       134.805   \n",
       "\n",
       "   DER_pt_h  DER_deltaeta_jet_jet  DER_mass_jet_jet  DER_prodeta_jet_jet  \\\n",
       "0    27.980                  0.91           124.711                2.666   \n",
       "1    48.146               -999.00          -999.000             -999.000   \n",
       "2    35.635               -999.00          -999.000             -999.000   \n",
       "3     0.414               -999.00          -999.000             -999.000   \n",
       "4    16.405               -999.00          -999.000             -999.000   \n",
       "\n",
       "   DER_deltar_tau_lep  ...  PRI_met_phi  PRI_met_sumet  PRI_jet_num  \\\n",
       "0               3.064  ...       -0.277        258.733            2   \n",
       "1               3.473  ...       -1.916        164.546            1   \n",
       "2               3.148  ...       -2.186        260.414            1   \n",
       "3               3.310  ...        0.060         86.062            0   \n",
       "4               3.891  ...       -0.871         53.131            0   \n",
       "\n",
       "   PRI_jet_leading_pt  PRI_jet_leading_eta  PRI_jet_leading_phi  \\\n",
       "0              67.435                2.150                0.444   \n",
       "1              46.226                0.725                1.158   \n",
       "2              44.251                2.053               -2.028   \n",
       "3            -999.000             -999.000             -999.000   \n",
       "4            -999.000             -999.000             -999.000   \n",
       "\n",
       "   PRI_jet_subleading_pt  PRI_jet_subleading_eta  PRI_jet_subleading_phi  \\\n",
       "0                 46.062                    1.24                  -2.475   \n",
       "1               -999.000                 -999.00                -999.000   \n",
       "2               -999.000                 -999.00                -999.000   \n",
       "3               -999.000                 -999.00                -999.000   \n",
       "4               -999.000                 -999.00                -999.000   \n",
       "\n",
       "   PRI_jet_all_pt  \n",
       "0         113.497  \n",
       "1          46.226  \n",
       "2          44.251  \n",
       "3           0.000  \n",
       "4           0.000  \n",
       "\n",
       "[5 rows x 32 columns]"
      ]
     },
     "execution_count": 6,
     "metadata": {},
     "output_type": "execute_result"
    }
   ],
   "source": [
    "import pandas as pd\n",
    "\n",
    "train_DF = pd.read_csv(DATA_TRAIN_PATH)\n",
    "train_DF.head()"
   ]
  },
  {
   "cell_type": "code",
   "execution_count": 5,
   "metadata": {
    "collapsed": false
   },
   "outputs": [],
   "source": [
    "from helpers import *\n",
    "DATA_TRAIN_PATH = \"../train.csv\" # TODO: download train data and supply path here \n",
    "y, tX, ids = load_csv_data(DATA_TRAIN_PATH)"
   ]
  },
  {
   "cell_type": "code",
   "execution_count": 7,
   "metadata": {},
   "outputs": [
    {
     "data": {
      "text/plain": [
       "array(['2', '1', '1', ..., '1', '0', '0'], dtype='<U1')"
      ]
     },
     "execution_count": 7,
     "metadata": {},
     "output_type": "execute_result"
    }
   ],
   "source": [
    "with open(DATA_TRAIN_PATH, \"r\") as f:\n",
    "            title_list = f.readline().split(\",\")\n",
    "\n",
    "jet_num_col = title_list.index(\"PRI_jet_num\")\n",
    "\n",
    "category_tx = np.genfromtxt(\n",
    "    DATA_TRAIN_PATH, dtype=str, delimiter=\",\", skip_header=1, usecols=[jet_num_col])\n",
    "category_tx\n"
   ]
  },
  {
   "cell_type": "code",
   "execution_count": 13,
   "metadata": {},
   "outputs": [],
   "source": [
    "class Dataset:\n",
    "    def __init__(self, data_pth, data_type):\n",
    "        self.data_pth = f\"{data_pth}/{data_type}.csv\"\n",
    "        self.data_type = data_type\n",
    "\n",
    "        self.data = []\n",
    "        self.labels = []\n",
    "        self.ids = []\n",
    "\n",
    "        self.col_names = self.read_col_names()\n",
    "        self.num_cols = len(self.col_names)\n",
    "\n",
    "    def load_data(self):\n",
    "        \"\"\"Load the data from the csv file.\"\"\"\n",
    "\n",
    "        y, tX, ids = load_csv_data(self.data_pth)\n",
    "        self.ids = ids\n",
    "        self.labels = y\n",
    "        self.data = tX\n",
    "\n",
    "        self.data_imputation()\n",
    "        self.data_normalization()\n",
    "        self.filter_outliers()\n",
    "\n",
    "    def read_col_names(self):\n",
    "        \"\"\"Read the column names from the csv file.\"\"\"\n",
    "\n",
    "        with open(self.data_pth, \"r\") as f:\n",
    "            col_names = f.readline().strip().split(\",\")\n",
    "        return col_names\n",
    "\n",
    "    def data_imputation(self, method=\"median\"):\n",
    "        \"\"\"Impute the missing values in the data.\"\"\"\n",
    "\n",
    "        for col in range(self.data.shape[1]):\n",
    "            col_data = self.data[:, col]\n",
    "            if method == \"mean\":\n",
    "                col_data[col_data == -\n",
    "                         999.0] = np.nanmean(col_data[col_data != -999.0])\n",
    "                col_data[np.isnan(col_data)] = np.nanmean(col_data)\n",
    "            elif method == \"median\":\n",
    "                col_data[col_data == -\n",
    "                         999.0] = np.nanmedian(col_data[col_data != -999.0])\n",
    "                col_data[np.isnan(col_data)] = np.nanmedian(col_data)\n",
    "            else:\n",
    "                col_data[col_data == -999.0] = 0.0\n",
    "                col_data[np.isnan(col_data)] = 0.0\n",
    "\n",
    "    def data_normalization(self):\n",
    "        \"\"\"Normalize the data, zero-mean and standardization.\"\"\"\n",
    "\n",
    "        mean_data = np.mean(self.data, axis=0)\n",
    "        self.data = self.data - mean_data\n",
    "        self.data = self.data / np.std(self.data, axis=0)\n",
    "\n",
    "    def category_feature(self):\n",
    "        \"\"\"Create new features based on the category feature.\"\"\"\n",
    "        jet_num_one_hot = {\n",
    "            \"0\": [0.0, 0.0, 0.0, 1.0],\n",
    "            \"1\": [0.0, 0.0, 1.0, 0.0],\n",
    "            \"2\": [0.0, 1.0, 0.0, 0.0],\n",
    "            \"3\": [1.0, 0.0, 0.0, 0.0]\n",
    "        }\n",
    "\n",
    "        jet_num_col = self.col_names.index(\"PRI_jet_num\")\n",
    "\n",
    "    def filter_outliers(self, m=10):\n",
    "        \"\"\"\n",
    "        Filter out outliers over mean +/- m * std>\n",
    "        \"\"\"\n",
    "        for i in range(self.data.shape[1]):\n",
    "            delta = abs(self.data[:, i] - np.mean(self.data[:, i]))\n",
    "            mdev = m * np.std(self.data[:, i])\n",
    "            self.data = self.data[delta < mdev]\n",
    "            self.labels = self.labels[delta < mdev]\n",
    "            self.ids = self.ids[delta < mdev]\n",
    "\n",
    "            assert self.labels.shape[0] == self.data.shape[0]\n",
    "            assert self.ids.shape[0] == self.data.shape[0]\n"
   ]
  },
  {
   "cell_type": "code",
   "execution_count": 14,
   "metadata": {},
   "outputs": [],
   "source": [
    "train_dataset = Dataset(\"../\", \"train\")\n",
    "train_dataset.load_data()"
   ]
  },
  {
   "cell_type": "code",
   "execution_count": 15,
   "metadata": {},
   "outputs": [
    {
     "data": {
      "text/plain": [
       "<bound method Dataset.category_feature of <__main__.Dataset object at 0x299bbf880>>"
      ]
     },
     "execution_count": 15,
     "metadata": {},
     "output_type": "execute_result"
    }
   ],
   "source": [
    "train_dataset"
   ]
  },
  {
   "cell_type": "code",
   "execution_count": 45,
   "metadata": {},
   "outputs": [
    {
     "data": {
      "text/plain": [
       "34"
      ]
     },
     "execution_count": 45,
     "metadata": {},
     "output_type": "execute_result"
    }
   ],
   "source": [
    "id_col = train_dataset.col_names.index(\"Id\")\n",
    "label_col = train_dataset.col_names.index(\"Prediction\")\n",
    "jet_num_col = train_dataset.col_names.index(\"PRI_jet_num\")\n",
    "special_col = [id_col, label_col, jet_num_col]\n",
    "float_col_ids = []\n",
    "float_col_names = []\n",
    "category_col_names = ['jetnum3', 'jetnum2', 'jetnum1', 'jetnum0']\n",
    "for idx in range(len(title_list)):\n",
    "    if idx not in special_col:\n",
    "        float_col_ids.append(idx)\n",
    "        float_col_names.append(title_list[idx])\n",
    "        full_col_names = ['x_bias'] + float_col_names + category_col_names\n",
    "len(full_col_names)"
   ]
  },
  {
   "cell_type": "markdown",
   "metadata": {},
   "source": [
    "### Normalize Data"
   ]
  },
  {
   "cell_type": "code",
   "execution_count": 16,
   "metadata": {},
   "outputs": [],
   "source": [
    "def normalize(x):\n",
    "    \"\"\"Normalize the dataset x.\"\"\"\n",
    "    mean_x = np.mean(x, axis=0)\n",
    "    std_x = np.std(x, axis=0)\n",
    "    x = (x - mean_x) / std_x\n",
    "    return x\n",
    "\n",
    "tX_norm = normalize(tX)"
   ]
  },
  {
   "cell_type": "markdown",
   "metadata": {},
   "source": [
    "## Do your thing crazy machine learning thing here :) ..."
   ]
  },
  {
   "cell_type": "code",
   "execution_count": null,
   "metadata": {},
   "outputs": [],
   "source": []
  },
  {
   "cell_type": "markdown",
   "metadata": {},
   "source": [
    "## Generate predictions and save ouput in csv format for submission:"
   ]
  },
  {
   "cell_type": "code",
   "execution_count": 6,
   "metadata": {
    "collapsed": false
   },
   "outputs": [
    {
     "ename": "NameError",
     "evalue": "name 'load_csv_data' is not defined",
     "output_type": "error",
     "traceback": [
      "\u001b[0;31m---------------------------------------------------------------------------\u001b[0m",
      "\u001b[0;31mNameError\u001b[0m                                 Traceback (most recent call last)",
      "Cell \u001b[0;32mIn [6], line 2\u001b[0m\n\u001b[1;32m      1\u001b[0m DATA_TEST_PATH \u001b[39m=\u001b[39m \u001b[39m\"\u001b[39m\u001b[39m../data/test.csv\u001b[39m\u001b[39m\"\u001b[39m \u001b[39m# TODO: download train data and supply path here \u001b[39;00m\n\u001b[0;32m----> 2\u001b[0m _, tX_test, ids_test \u001b[39m=\u001b[39m load_csv_data(DATA_TEST_PATH)\n",
      "\u001b[0;31mNameError\u001b[0m: name 'load_csv_data' is not defined"
     ]
    }
   ],
   "source": [
    "DATA_TEST_PATH = \"../data/test.csv\" # TODO: download train data and supply path here \n",
    "_, tX_test, ids_test = load_csv_data(DATA_TEST_PATH)"
   ]
  },
  {
   "cell_type": "code",
   "execution_count": 31,
   "metadata": {
    "collapsed": false
   },
   "outputs": [],
   "source": [
    "OUTPUT_PATH = '' # TODO: fill in desired name of output file for submission\n",
    "y_pred = predict_labels(weights, tX_test)\n",
    "create_csv_submission(ids_test, y_pred, OUTPUT_PATH)"
   ]
  },
  {
   "cell_type": "code",
   "execution_count": null,
   "metadata": {},
   "outputs": [],
   "source": []
  }
 ],
 "metadata": {
  "anaconda-cloud": {},
  "kernelspec": {
   "display_name": "Python 3.10.8 64-bit",
   "language": "python",
   "name": "python3"
  },
  "language_info": {
   "codemirror_mode": {
    "name": "ipython",
    "version": 3
   },
   "file_extension": ".py",
   "mimetype": "text/x-python",
   "name": "python",
   "nbconvert_exporter": "python",
   "pygments_lexer": "ipython3",
   "version": "3.10.8"
  },
  "vscode": {
   "interpreter": {
    "hash": "aee8b7b246df8f9039afb4144a1f6fd8d2ca17a180786b69acc140d282b71a49"
   }
  }
 },
 "nbformat": 4,
 "nbformat_minor": 0
}
